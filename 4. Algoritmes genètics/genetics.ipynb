{
 "cells": [
  {
   "cell_type": "markdown",
   "id": "9d9c58c8",
   "metadata": {},
   "source": [
    "#Exerici 1: Creació d'individus\n",
    "##Definició del genotip i fenotip\n",
    "    Genotip -> Matriu de 16 files (quarks) i 28 columnes (orbital)\n",
    "    Fenotip -> Comportament resultant per tant en aquest cas cal tenir en compte: \n",
    "                - Que cap orbital superi el màxim d'influències permeses.\n",
    "                - Que cap quark influeixi més de dos orbitals consecutius.\n",
    "\n",
    "#Estructura de l'ADN\n",
    "La matriu és binària per representar la influència o no dels quarks sobre els orbitals.\n",
    "D'aquesta manera les operaciones genètiques posteriors són senzilles i es pot avaluar ràpidament si el resultat obtingut és correcte.\n",
    "\n",
    "#Principi de variació\n",
    "La inicialització és aleatòria però controlada per tal de garantir que es compleixin les normes de no influenciar més de dos orbitals consecutius i de no sobrecarregar els orbitals.\n",
    "Mitjançant mutacions amb probabilitat es canvien els 0 a 1 i els 1 a 0 comprovant que no es trenquin les restriccions. Per tant, mantenint una diversitat genètica en la població inicial i permeten variació a altres configuracions per a les generacions futures evitant l'estancament en un o una sèrie de patrons. "
   ]
  },
  {
   "cell_type": "code",
   "execution_count": 2,
   "id": "2173d7e5",
   "metadata": {},
   "outputs": [
    {
     "name": "stdout",
     "output_type": "stream",
     "text": [
      "pygame 2.6.1 (SDL 2.28.4, Python 3.13.3)\n",
      "Hello from the pygame community. https://www.pygame.org/contribute.html\n",
      "[[1 1 0 1 0 1 1 0 0 0 0 1 1 0 0 0 0 0 0 1 0 0 1 0 0 0 1 1]\n",
      " [1 0 0 1 0 0 1 0 0 1 0 0 1 0 0 1 0 0 0 1 1 0 1 0 1 1 0 0]\n",
      " [1 0 0 0 0 0 0 0 0 1 1 0 0 1 1 0 1 0 0 1 1 0 1 1 0 1 0 0]\n",
      " [0 1 0 1 0 1 1 0 1 1 0 1 1 0 1 1 0 0 0 1 1 0 0 1 1 0 0 1]\n",
      " [1 0 0 0 1 1 0 0 0 0 1 1 0 0 1 1 0 1 1 0 0 1 0 0 1 0 1 0]\n",
      " [1 1 0 0 0 1 0 1 1 0 0 1 0 0 1 0 1 1 0 1 0 0 0 0 1 0 1 0]\n",
      " [1 0 1 0 0 0 0 1 1 0 1 0 1 1 0 1 0 0 0 1 0 1 0 1 1 0 0 0]\n",
      " [1 0 1 1 0 1 0 0 1 1 0 1 0 0 0 1 1 0 0 0 1 0 0 0 0 0 1 1]\n",
      " [0 0 1 1 0 1 1 0 1 0 1 1 0 1 0 0 1 0 0 0 0 1 0 1 1 0 0 0]\n",
      " [0 0 1 0 1 0 0 0 0 0 0 0 1 0 0 1 0 0 0 0 0 1 0 0 1 1 0 1]\n",
      " [1 1 0 1 0 0 0 1 0 1 1 0 0 0 0 0 0 1 0 0 0 1 0 0 1 0 1 0]\n",
      " [0 1 0 0 0 0 0 0 0 1 0 0 1 1 0 1 1 0 0 0 0 1 0 1 0 0 0 0]\n",
      " [0 1 1 0 0 0 0 1 0 1 0 0 0 0 0 0 0 1 0 0 0 0 1 0 0 1 0 0]\n",
      " [0 1 1 0 0 0 0 1 1 0 0 0 0 0 1 0 0 0 0 0 0 1 1 0 0 0 0 0]\n",
      " [0 0 1 1 0 0 0 0 1 1 0 0 0 0 0 1 0 0 1 0 0 0 1 0 0 0 0 0]\n",
      " [0 0 1 0 1 0 0 0 1 0 0 0 0 0 1 0 0 0 1 0 0 1 1 0 0 0 0 0]]\n"
     ]
    }
   ],
   "source": [
    "import numpy as np\n",
    "import pygame\n",
    "import random\n",
    "def create_adn():\n",
    "\n",
    "    initial = np.zeros((16,28), dtype=int)\n",
    "    orbitals_count = np.zeros(28, dtype=int)\n",
    "    max_influence = [8,8,8,8,10,6,4] * 4\n",
    "\n",
    "    for quark in range(16):\n",
    "        for orbital in range(28):\n",
    "            influence = np.random.randint(0, 2)\n",
    "\n",
    "            influence_available = True\n",
    "\n",
    "            if orbital >= 2 and initial[quark, orbital-1] == 1 and initial[quark, orbital-2] == 1:\n",
    "                influence_available = False\n",
    "            if influence == 1 and orbitals_count[orbital] >= max_influence[orbital]:\n",
    "                influence_available = False\n",
    "            if influence == 1 and influence_available:\n",
    "                orbitals_count[orbital] += 1\n",
    "                initial[quark, orbital] = 1\n",
    "    \n",
    "    return initial\n",
    "\n",
    "initial = create_adn()\n",
    "print(initial)"
   ]
  },
  {
   "cell_type": "markdown",
   "id": "7d9f7d38",
   "metadata": {},
   "source": [
    "#Exercici 2: Funció Fitness\n",
    "Objectiu de la funció és mesurar com de bona és la configuració del resultat. En aquest cas l'objectiu és minimitzar aquest fitness per reduir les penalitzacions i per tant aconseguir un millor individu.\n",
    "Per avauluar-ho cal tenir en compte el límits d'influència per evitar sobrecàrregues als orbitals. La penalització en cas de no complir-se aquesta condició serà de +5.\n",
    "D'altra banda també cal penalizar que un quark no pugui influenciar tres orbitals consecutius. En aquesta altra casuística també es penalitzarà amb +10."
   ]
  },
  {
   "cell_type": "code",
   "execution_count": null,
   "id": "8cb5dc94",
   "metadata": {},
   "outputs": [
    {
     "name": "stdout",
     "output_type": "stream",
     "text": [
      "0\n"
     ]
    }
   ],
   "source": [
    "def fitness(adn):\n",
    "    penalty = 0\n",
    "    max_influence = [8,8,8,8,10,6,4] * 4\n",
    "    orbitals_count = np.sum(adn, axis=0)\n",
    "\n",
    "    for i in range(28):\n",
    "        if orbitals_count[i] > max_influence[i]:\n",
    "            penalty += (orbitals_count[i] - max_influence[i]) * 5\n",
    "    for quark in range (16):\n",
    "        for orbital in range(26):\n",
    "            if adn[quark, orbital] == 1 and adn[quark,orbital+1] == 1 and adn[quark, orbital+2] == 1:\n",
    "                penalitzacio += 10\n",
    "\n",
    "    return penalty\n",
    "\n",
    "fitness_value = fitness(initial)\n",
    "print(fitness_value)"
   ]
  },
  {
   "cell_type": "markdown",
   "id": "56de56de",
   "metadata": {},
   "source": [
    "# Exercici 3: Creació de la matching pool\n",
    "Procediment de selecció elitista:\n",
    "S'agafen els millors individus i que per tant tenen el fitness més baix mentre la resta de la població es descarta.\n",
    "D'aquesta manera assegurem evitar que per atzar es descartin individus bons i com que en aquest cas hi ha poca variància en les penalitzacions un mètode de ruleta seria gariebé aleatòri.\n"
   ]
  },
  {
   "cell_type": "code",
   "execution_count": 4,
   "id": "c079691b",
   "metadata": {},
   "outputs": [],
   "source": [
    "def elitist_selection(population, fitness_values, elite_size):\n",
    "    selected_indices = np.argsort(fitness_values)\n",
    "    best_indices = selected_indices[:elite_size]\n",
    "    matching_pool = [population[i] for i in best_indices]\n",
    "    return matching_pool"
   ]
  },
  {
   "cell_type": "markdown",
   "id": "51deba66",
   "metadata": {},
   "source": [
    "# Exercici 4: Crossover i mutació\n",
    "\n",
    "Procediment de reproducció: Crossover\n",
    "A cada quark es decideix per fila si agafar-la del pare 1 o pare 2 amb probabilitat 50%. Deixant de banda la simplicitat de la informació aquest mètode permet barrejar inforació dels dos pares de manera equilibrada i eviten descompensacions que podrien provocar perdre una estructura útil.\n",
    "\n",
    "Respecte a la mutació després del crossover s'ha decidit afegir una probabilitat de l'1% de mutar, per tant invertir el valor. Com la matriu és de 16x28 = 446 l'1% serien entre 4 i 5 mutacions a la matriu. D'aquesta manera, s'aconsegueixen introduir petites variacions aleatòries i puntuals evintant l'estancament però sense renunciar a l'estructura que va prenent forma la matriu."
   ]
  },
  {
   "cell_type": "code",
   "execution_count": 5,
   "id": "08456fc1",
   "metadata": {},
   "outputs": [],
   "source": [
    "def crossover_5050(parent1, parent2):\n",
    "    child = np.zeros_like(parent1)\n",
    "    for quark in range(16):\n",
    "        if np.random.rand() < 0.5:\n",
    "            child[quark] = parent1[quark]\n",
    "        else:\n",
    "            child[quark] = parent2[quark]\n",
    "    return child\n",
    "\n",
    "def mutate(adn, mutation_rate=0.01):\n",
    "    for quark in range(16):\n",
    "        for orbital in range(28):\n",
    "            if np.random.rand() < mutation_rate:\n",
    "                adn[quark, orbital] = 1 - adn[quark, orbital]\n",
    "    return adn"
   ]
  },
  {
   "cell_type": "code",
   "execution_count": 7,
   "id": "bb7e7e94",
   "metadata": {},
   "outputs": [],
   "source": [
    "pygame.init()\n",
    "\n",
    "# Constants\n",
    "WIDTH = 1600\n",
    "HEIGHT = 900\n",
    "RADI_ORBITAL = 30\n",
    "COLOR_ORBITAL = (100, 150, 255)\n",
    "COLOR_TEXT = (255, 255, 255)\n",
    "NUM_POPULATION = 10\n",
    "FPS = 2  \n",
    "\n",
    "# Pygame inicialització\n",
    "screen = pygame.display.set_mode((WIDTH, HEIGHT))\n",
    "pygame.display.set_caption(\"Visualització Matriu LS-28\")\n",
    "font = pygame.font.SysFont(None, 24)\n",
    "clock = pygame.time.Clock()\n",
    "\n",
    "\n",
    "def draw(populations, fitness_values):\n",
    "    screen.fill((20, 20, 30))\n",
    "    marge_x = WIDTH // (28 + 1)\n",
    "    marge_y = HEIGHT // (len(populations) + 1)\n",
    "   \n",
    "    for index, population in enumerate(populations):\n",
    "\n",
    "        posicions = []\n",
    "        y = (index + 1) * marge_y\n",
    "        for i in range(28):\n",
    "            x = (i + 1) * marge_x\n",
    "            posicions.append((x, y))\n",
    "\n",
    "        \n",
    "        for idx, (x, y) in enumerate(posicions):\n",
    "            pygame.draw.circle(screen, COLOR_ORBITAL, (x, y), RADI_ORBITAL, 2)\n",
    "          \n",
    "            num_quarks = np.sum(population[:, idx])\n",
    "            if num_quarks > 0:\n",
    "                text = font.render(str(num_quarks), True, COLOR_TEXT)\n",
    "                text_rect = text.get_rect(center=(x, y))\n",
    "                screen.blit(text, text_rect)\n",
    "        \n",
    "        fitness_text = font.render(f\"Fitness: {fitness_values[index]:.2f}\", True, COLOR_TEXT)\n",
    "        fitness_rect = fitness_text.get_rect(midleft=(WIDTH/2, y-RADI_ORBITAL*1.5))\n",
    "        screen.blit(fitness_text, fitness_rect)\n",
    "\n",
    "    fitness_avg = np.mean(fitness_values)\n",
    "    fitness_avg_text = font.render(f\"Fitness Avg: {fitness_avg:.2f}\", True, COLOR_TEXT)\n",
    "    fitness_avg_rect = fitness_avg_text.get_rect(midleft=(WIDTH/2, HEIGHT-RADI_ORBITAL))\n",
    "    screen.blit(fitness_avg_text, fitness_avg_rect)\n",
    "\n",
    "    pygame.display.update()\n",
    "\n",
    "#Inicialitzar la matriu\n",
    "population = [create_adn() for _ in range(NUM_POPULATION)]\n",
    "# Bucle principal\n",
    "running = True\n",
    "while running:\n",
    "    clock.tick(FPS)\n",
    "\n",
    "    for event in pygame.event.get():\n",
    "        if event.type == pygame.QUIT or (event.type == pygame.KEYDOWN and event.key == pygame.K_ESCAPE):\n",
    "            running = False\n",
    "\n",
    "    fitness_values = [fitness(adn) for adn in population]\n",
    "\n",
    "    parents = elitist_selection(population, fitness_values, elite_size=4)\n",
    "    childrenPopulation = []\n",
    "    while len(childrenPopulation) < NUM_POPULATION:\n",
    "        parent1 = random.choice(parents)\n",
    "        parent2 = random.choice(parents)\n",
    "        child = crossover_5050(parent1, parent2)\n",
    "        child = mutate(child, mutation_rate=0.01)\n",
    "        if len(childrenPopulation) < NUM_POPULATION:\n",
    "            childrenPopulation.append(child)\n",
    "\n",
    "    population = childrenPopulation\n",
    "    # Dibuixar nova configuració\n",
    "    draw(population, fitness_values)\n",
    "\n",
    "pygame.quit()\n"
   ]
  }
 ],
 "metadata": {
  "kernelspec": {
   "display_name": "Python 3",
   "language": "python",
   "name": "python3"
  },
  "language_info": {
   "codemirror_mode": {
    "name": "ipython",
    "version": 3
   },
   "file_extension": ".py",
   "mimetype": "text/x-python",
   "name": "python",
   "nbconvert_exporter": "python",
   "pygments_lexer": "ipython3",
   "version": "3.13.3"
  }
 },
 "nbformat": 4,
 "nbformat_minor": 5
}
